{
 "cells": [
  {
   "cell_type": "code",
   "execution_count": 1,
   "id": "5cd7821f",
   "metadata": {},
   "outputs": [],
   "source": [
    "import pandas as pd\n",
    "import numpy as np\n",
    "import tensorflow as tf\n",
    "from sklearn.model_selection import GridSearchCV\n",
    "from scikeras.wrappers import KerasClassifier"
   ]
  },
  {
   "cell_type": "markdown",
   "id": "051c0a3b",
   "metadata": {},
   "source": [
    "## Load data"
   ]
  },
  {
   "cell_type": "code",
   "execution_count": 2,
   "id": "22b0d717",
   "metadata": {},
   "outputs": [],
   "source": [
    "x_train = pd.read_csv('final_x_train.csv')\n",
    "y_train = pd.read_csv('final_y_train.csv')\n",
    "x_valid = pd.read_csv('final_x_valid.csv')\n",
    "y_valid = pd.read_csv('final_y_valid.csv')\n",
    "x_test = pd.read_csv('final_x_test.csv')\n",
    "y_test = pd.read_csv('final_y_test.csv')"
   ]
  },
  {
   "cell_type": "markdown",
   "id": "435ce4b5",
   "metadata": {},
   "source": [
    "## Set up"
   ]
  },
  {
   "cell_type": "code",
   "execution_count": 3,
   "id": "1c02b125",
   "metadata": {},
   "outputs": [],
   "source": [
    "#One hot encoding to target variable for NN\n",
    "def O_H_E_Y(dataset):\n",
    "    Y_data = pd.get_dummies(dataset['risk_rating'],dtype =int)\n",
    "    new_column_names = ['risk_rating_' + str(i + 1) for i in range(len(Y_data.columns))]\n",
    "    Y_data_renamed = Y_data.rename(columns=dict(zip(Y_data.columns, new_column_names)))\n",
    "    data_combined = Y_data_renamed.join(dataset)\n",
    "    Data_completed = data_combined.rename(columns = {'risk_rating_16':'risk_rating_17'})\n",
    "    return Data_completed.drop(['risk_rating'],axis =1)\n",
    "\n",
    "y_train= O_H_E_Y(y_train)\n",
    "y_valid= O_H_E_Y(y_valid)\n",
    "y_test= O_H_E_Y(y_test)"
   ]
  },
  {
   "cell_type": "code",
   "execution_count": 4,
   "id": "3d5ce50e",
   "metadata": {},
   "outputs": [
    {
     "data": {
      "text/plain": [
       "(1516, 110)"
      ]
     },
     "execution_count": 4,
     "metadata": {},
     "output_type": "execute_result"
    }
   ],
   "source": [
    "x_test.shape"
   ]
  },
  {
   "cell_type": "code",
   "execution_count": 5,
   "id": "988d61bd",
   "metadata": {},
   "outputs": [
    {
     "data": {
      "text/plain": [
       "(3029, 16)"
      ]
     },
     "execution_count": 5,
     "metadata": {},
     "output_type": "execute_result"
    }
   ],
   "source": [
    "y_valid.shape"
   ]
  },
  {
   "cell_type": "markdown",
   "id": "a46bf85f",
   "metadata": {},
   "source": [
    "## Model Fiiting"
   ]
  },
  {
   "cell_type": "markdown",
   "id": "0745d8ec",
   "metadata": {},
   "source": [
    "To enhance accuracy, the model's performance was enhanced through two main approaches: optimizing hyperparameters and adjusting the number of hidden layers. "
   ]
  },
  {
   "cell_type": "markdown",
   "id": "bb7f8ab8",
   "metadata": {},
   "source": [
    "The hyperparameters under consideration for testing encompass hidden layer size, batch size, max epochs, optimizer, and activation method within the hidden layers. "
   ]
  },
  {
   "cell_type": "markdown",
   "id": "c600c679",
   "metadata": {},
   "source": [
    "Regarding the number of hidden layers, evaluations were conducted individually for configurations with one to five hidden layers. "
   ]
  },
  {
   "cell_type": "markdown",
   "id": "1a999460",
   "metadata": {},
   "source": [
    "### One Hidden Layer"
   ]
  },
  {
   "cell_type": "code",
   "execution_count": 6,
   "id": "6586189c",
   "metadata": {},
   "outputs": [],
   "source": [
    "#Set up the model with one hidden layer\n",
    "def NN(hidden_layer_size=100,activation = 'tanh',optimizer='adam'):\n",
    "    input_size = 110\n",
    "    output_size = 16\n",
    "    model = tf.keras.Sequential([\n",
    "            tf.keras.layers.Input(shape=(input_size,)),\n",
    "            tf.keras.layers.Dense(hidden_layer_size, activation=activation),\n",
    "            tf.keras.layers.Dense(output_size, activation='softmax')\n",
    "        ])\n",
    "    model.compile(optimizer=optimizer, loss='CategoricalCrossentropy', metrics=['accuracy'])\n",
    "    return model \n",
    "\n",
    "model = KerasClassifier(model=NN,\n",
    "                        hidden_layer_size=100,\n",
    "                        activation = 'tanh',optimizer='adam', verbose=0)"
   ]
  },
  {
   "cell_type": "code",
   "execution_count": 7,
   "id": "447a2508",
   "metadata": {},
   "outputs": [
    {
     "name": "stdout",
     "output_type": "stream",
     "text": [
      "Fitting 3 folds for each of 756 candidates, totalling 2268 fits\n"
     ]
    },
    {
     "data": {
      "text/plain": [
       "(KerasClassifier(\n",
       " \tmodel=<function NN at 0x000001E7420B05E0>\n",
       " \tbuild_fn=None\n",
       " \twarm_start=False\n",
       " \trandom_state=None\n",
       " \toptimizer=Adadelta\n",
       " \tloss=None\n",
       " \tmetrics=None\n",
       " \tbatch_size=50\n",
       " \tvalidation_batch_size=None\n",
       " \tverbose=0\n",
       " \tcallbacks=None\n",
       " \tvalidation_split=0.0\n",
       " \tshuffle=True\n",
       " \trun_eagerly=False\n",
       " \tepochs=10\n",
       " \thidden_layer_size=50\n",
       " \tactivation=tanh\n",
       " \tclass_weight=None\n",
       " ),\n",
       " {'activation': 'tanh',\n",
       "  'batch_size': 50,\n",
       "  'epochs': 10,\n",
       "  'hidden_layer_size': 50,\n",
       "  'optimizer': 'Adadelta'},\n",
       " 0.23796944133600073)"
      ]
     },
     "execution_count": 7,
     "metadata": {},
     "output_type": "execute_result"
    }
   ],
   "source": [
    "# Seting up the activation methods, optimizser, number of hidden layer size, batch size, and epochs \n",
    "# to find the best combination\n",
    "# Each hyperparameters will be selected one value to search the highest accuracy score. \n",
    "param_grid = {\n",
    "    'hidden_layer_size' : [50,100,200],\n",
    "    'activation' : ['tanh','softmax','relu','sigmoid'],\n",
    "    'optimizer' : ['SGD','RMSprop', 'Adagrad', 'Adadelta', 'Adam', 'Adamax', 'Nadam'],\n",
    "    'batch_size' : [50,100,150],\n",
    "    'epochs' : [10, 20,50]\n",
    "}\n",
    "\n",
    "Hyper_param_search = GridSearchCV(estimator=model,\n",
    "                       param_grid=param_grid, scoring = 'accuracy',n_jobs=-1, cv=3, verbose=2,)\n",
    "\n",
    "#Fitting the trainning and validation dataset\n",
    "Hyper_param_search.fit(x_train, y_train, validation_data=(x_valid, y_valid))\n",
    "\n",
    "# check the best hyperparameter\n",
    "Hyper_param_search.best_estimator_, Hyper_param_search.best_params_, Hyper_param_search.best_score_"
   ]
  },
  {
   "cell_type": "code",
   "execution_count": 8,
   "id": "da5241eb",
   "metadata": {},
   "outputs": [
    {
     "data": {
      "text/plain": [
       "0.20712401055408972"
      ]
     },
     "execution_count": 8,
     "metadata": {},
     "output_type": "execute_result"
    }
   ],
   "source": [
    "# Using test set to evaluate the accuracy\n",
    "best_model = Hyper_param_search.best_estimator_\n",
    "test_accuracy = best_model.score(x_test, y_test)\n",
    "test_accuracy"
   ]
  },
  {
   "cell_type": "markdown",
   "id": "0ca842db",
   "metadata": {},
   "source": [
    "### Two Hidden Layer"
   ]
  },
  {
   "cell_type": "code",
   "execution_count": 9,
   "id": "be879f5b",
   "metadata": {},
   "outputs": [],
   "source": [
    "#Set up the model with two hidden layer\n",
    "def NN2(hidden_layer_size=100,activation = 'tanh',optimizer='adam'):\n",
    "    input_size = 110\n",
    "    output_size = 16\n",
    "    model = tf.keras.Sequential([\n",
    "            tf.keras.layers.Input(shape=(input_size,)),\n",
    "            tf.keras.layers.Dense(hidden_layer_size, activation=activation),\n",
    "            tf.keras.layers.Dense(hidden_layer_size, activation=activation),\n",
    "            tf.keras.layers.Dense(output_size, activation='softmax')\n",
    "        ])\n",
    "    model.compile(optimizer=optimizer, loss='CategoricalCrossentropy', metrics=['accuracy'])\n",
    "    return model \n",
    "\n",
    "model = KerasClassifier(model=NN2,\n",
    "                        hidden_layer_size=100,\n",
    "                        activation = 'tanh',optimizer='adam', verbose=0)"
   ]
  },
  {
   "cell_type": "code",
   "execution_count": 10,
   "id": "e5884830",
   "metadata": {
    "scrolled": true
   },
   "outputs": [
    {
     "name": "stdout",
     "output_type": "stream",
     "text": [
      "Fitting 3 folds for each of 756 candidates, totalling 2268 fits\n"
     ]
    },
    {
     "data": {
      "text/plain": [
       "(KerasClassifier(\n",
       " \tmodel=<function NN2 at 0x000001E74378CF70>\n",
       " \tbuild_fn=None\n",
       " \twarm_start=False\n",
       " \trandom_state=None\n",
       " \toptimizer=SGD\n",
       " \tloss=None\n",
       " \tmetrics=None\n",
       " \tbatch_size=100\n",
       " \tvalidation_batch_size=None\n",
       " \tverbose=0\n",
       " \tcallbacks=None\n",
       " \tvalidation_split=0.0\n",
       " \tshuffle=True\n",
       " \trun_eagerly=False\n",
       " \tepochs=50\n",
       " \thidden_layer_size=50\n",
       " \tactivation=sigmoid\n",
       " \tclass_weight=None\n",
       " ),\n",
       " {'activation': 'sigmoid',\n",
       "  'batch_size': 100,\n",
       "  'epochs': 50,\n",
       "  'hidden_layer_size': 50,\n",
       "  'optimizer': 'SGD'},\n",
       " 0.2324022373528903)"
      ]
     },
     "execution_count": 10,
     "metadata": {},
     "output_type": "execute_result"
    }
   ],
   "source": [
    "# Same stituation with previous coding\n",
    "# Seting up the activation methods, optimizser, number of hidden layer size, batch size, and epochs \n",
    "# to find the best combination\n",
    "# Each hyperparameters will be selected one value to search the highest accuracy score. \n",
    "param_grid = {\n",
    "    'hidden_layer_size' : [50,100,200],\n",
    "    'activation' : ['tanh','softmax','relu','sigmoid'],\n",
    "    'optimizer' : ['SGD','RMSprop', 'Adagrad', 'Adadelta', 'Adam', 'Adamax', 'Nadam'],\n",
    "    'batch_size' : [50,100,150],\n",
    "    'epochs' : [10, 20,50]\n",
    "\n",
    "}\n",
    "\n",
    "Hyper_param_search = GridSearchCV(estimator=model,\n",
    "                       param_grid=param_grid, scoring = 'accuracy',n_jobs=-1, cv=3, verbose=2,)\n",
    "Hyper_param_search.fit(x_train, y_train, validation_data=(x_valid, y_valid))\n",
    "\n",
    "# check the best hyperparameter\n",
    "Hyper_param_search.best_estimator_, Hyper_param_search.best_params_, Hyper_param_search.best_score_           "
   ]
  },
  {
   "cell_type": "code",
   "execution_count": 12,
   "id": "4673cf01",
   "metadata": {},
   "outputs": [
    {
     "data": {
      "text/plain": [
       "0.2183377308707124"
      ]
     },
     "execution_count": 12,
     "metadata": {},
     "output_type": "execute_result"
    }
   ],
   "source": [
    "best_model = Hyper_param_search.best_estimator_\n",
    "test_accuracy = best_model.score(x_test, y_test)\n",
    "test_accuracy"
   ]
  },
  {
   "cell_type": "markdown",
   "id": "19f68b29",
   "metadata": {},
   "source": [
    "## Three Hidden Layer"
   ]
  },
  {
   "cell_type": "code",
   "execution_count": 4,
   "id": "6848cef0",
   "metadata": {},
   "outputs": [],
   "source": [
    "#Set up the model with three hidden layer\n",
    "def NN3(hidden_layer_size=100,activation = 'tanh',optimizer='adam'):\n",
    "    input_size = 110\n",
    "    output_size = 16\n",
    "    model = tf.keras.Sequential([\n",
    "            tf.keras.layers.Input(shape=(input_size,)),\n",
    "            tf.keras.layers.Dense(hidden_layer_size, activation=activation),\n",
    "            tf.keras.layers.Dense(hidden_layer_size, activation=activation),\n",
    "            tf.keras.layers.Dense(hidden_layer_size, activation=activation),\n",
    "            tf.keras.layers.Dense(output_size, activation='softmax')\n",
    "        ])\n",
    "    model.compile(optimizer=optimizer, loss='CategoricalCrossentropy', metrics=['accuracy'])\n",
    "    return model \n",
    "\n",
    "model = KerasClassifier(model=NN3,\n",
    "                        hidden_layer_size=100,\n",
    "                        activation = 'tanh',optimizer='adam', verbose=0)"
   ]
  },
  {
   "cell_type": "code",
   "execution_count": 5,
   "id": "4dc965f2",
   "metadata": {},
   "outputs": [
    {
     "name": "stdout",
     "output_type": "stream",
     "text": [
      "Fitting 3 folds for each of 756 candidates, totalling 2268 fits\n"
     ]
    },
    {
     "data": {
      "text/plain": [
       "(KerasClassifier(\n",
       " \tmodel=<function NN3 at 0x00000223809EE940>\n",
       " \tbuild_fn=None\n",
       " \twarm_start=False\n",
       " \trandom_state=None\n",
       " \toptimizer=Adagrad\n",
       " \tloss=None\n",
       " \tmetrics=None\n",
       " \tbatch_size=150\n",
       " \tvalidation_batch_size=None\n",
       " \tverbose=0\n",
       " \tcallbacks=None\n",
       " \tvalidation_split=0.0\n",
       " \tshuffle=True\n",
       " \trun_eagerly=False\n",
       " \tepochs=10\n",
       " \thidden_layer_size=50\n",
       " \tactivation=tanh\n",
       " \tclass_weight=None\n",
       " ),\n",
       " {'activation': 'tanh',\n",
       "  'batch_size': 150,\n",
       "  'epochs': 10,\n",
       "  'hidden_layer_size': 50,\n",
       "  'optimizer': 'Adagrad'},\n",
       " 0.23334612327473359)"
      ]
     },
     "execution_count": 5,
     "metadata": {},
     "output_type": "execute_result"
    }
   ],
   "source": [
    "# Same stituation with previous coding\n",
    "# Seting up the activation methods, optimizser, number of hidden layer size, batch size, and epochs \n",
    "# to find the best combination\n",
    "# Each hyperparameters will be selected one value to search the highest accuracy score. \n",
    "param_grid = {\n",
    "    'hidden_layer_size' : [50,100,200],\n",
    "    'activation' : ['tanh','softmax','relu','sigmoid'],\n",
    "    'optimizer' : ['SGD','RMSprop', 'Adagrad', 'Adadelta', 'Adam', 'Adamax', 'Nadam'],\n",
    "    'batch_size' : [50,100,150],\n",
    "    'epochs' : [10, 20,50]\n",
    "\n",
    "}\n",
    "\n",
    "Hyper_param_search = GridSearchCV(estimator=model,\n",
    "                       param_grid=param_grid, scoring = 'accuracy',n_jobs=-1, cv=3, verbose=2,)\n",
    "\n",
    "#Fitting the trainning and validation dataset\n",
    "Hyper_param_search.fit(x_train, y_train, validation_data=(x_valid, y_valid))\n",
    "\n",
    "# check the best hyperparameter\n",
    "Hyper_param_search.best_estimator_, Hyper_param_search.best_params_, Hyper_param_search.best_score_              "
   ]
  },
  {
   "cell_type": "code",
   "execution_count": 6,
   "id": "7ec63e07",
   "metadata": {},
   "outputs": [
    {
     "data": {
      "text/plain": [
       "0.22031662269129287"
      ]
     },
     "execution_count": 6,
     "metadata": {},
     "output_type": "execute_result"
    }
   ],
   "source": [
    "# Using test set to evaluate the accuracy\n",
    "best_model = Hyper_param_search.best_estimator_\n",
    "test_accuracy = best_model.score(x_test, y_test)\n",
    "test_accuracy"
   ]
  },
  {
   "cell_type": "markdown",
   "id": "b2988a37",
   "metadata": {},
   "source": [
    "## Four Hidden Layer"
   ]
  },
  {
   "cell_type": "code",
   "execution_count": 7,
   "id": "1f6b8f67",
   "metadata": {},
   "outputs": [],
   "source": [
    "#Set up the model with four hidden layer\n",
    "def NN4(hidden_layer_size=100,activation = 'tanh',optimizer='adam'):\n",
    "    input_size = 110\n",
    "    output_size = 16\n",
    "    model = tf.keras.Sequential([\n",
    "            tf.keras.layers.Input(shape=(input_size,)),\n",
    "            tf.keras.layers.Dense(hidden_layer_size, activation=activation),\n",
    "            tf.keras.layers.Dense(hidden_layer_size, activation=activation),\n",
    "            tf.keras.layers.Dense(hidden_layer_size, activation=activation),\n",
    "            tf.keras.layers.Dense(hidden_layer_size, activation=activation),\n",
    "            tf.keras.layers.Dense(output_size, activation='softmax')\n",
    "        ])\n",
    "    model.compile(optimizer=optimizer, loss='CategoricalCrossentropy', metrics=['accuracy'])\n",
    "    return model \n",
    "\n",
    "model = KerasClassifier(model=NN4,\n",
    "                        hidden_layer_size=100,\n",
    "                        activation = 'tanh',optimizer='adam', verbose=0)"
   ]
  },
  {
   "cell_type": "code",
   "execution_count": 8,
   "id": "5ebdcfe8",
   "metadata": {},
   "outputs": [
    {
     "name": "stdout",
     "output_type": "stream",
     "text": [
      "Fitting 3 folds for each of 756 candidates, totalling 2268 fits\n"
     ]
    },
    {
     "data": {
      "text/plain": [
       "(KerasClassifier(\n",
       " \tmodel=<function NN4 at 0x00000223EC8F6310>\n",
       " \tbuild_fn=None\n",
       " \twarm_start=False\n",
       " \trandom_state=None\n",
       " \toptimizer=SGD\n",
       " \tloss=None\n",
       " \tmetrics=None\n",
       " \tbatch_size=100\n",
       " \tvalidation_batch_size=None\n",
       " \tverbose=0\n",
       " \tcallbacks=None\n",
       " \tvalidation_split=0.0\n",
       " \tshuffle=True\n",
       " \trun_eagerly=False\n",
       " \tepochs=50\n",
       " \thidden_layer_size=200\n",
       " \tactivation=sigmoid\n",
       " \tclass_weight=None\n",
       " ),\n",
       " {'activation': 'sigmoid',\n",
       "  'batch_size': 100,\n",
       "  'epochs': 50,\n",
       "  'hidden_layer_size': 200,\n",
       "  'optimizer': 'SGD'},\n",
       " 0.22947697901370426)"
      ]
     },
     "execution_count": 8,
     "metadata": {},
     "output_type": "execute_result"
    }
   ],
   "source": [
    "# Same stituation with previous coding\n",
    "# Seting up the activation methods, optimizser, number of hidden layer size, batch size, and epochs \n",
    "# to find the best combination\n",
    "# Each hyperparameters will be selected one value to search the highest accuracy score. \n",
    "param_grid = {\n",
    "    'hidden_layer_size' : [50,100,200],\n",
    "    'activation' : ['tanh','softmax','relu','sigmoid'],\n",
    "    'optimizer' : ['SGD','RMSprop', 'Adagrad', 'Adadelta', 'Adam', 'Adamax', 'Nadam'],\n",
    "    'batch_size' : [50,100,150],\n",
    "    'epochs' : [10, 20,50]\n",
    "\n",
    "}\n",
    "\n",
    "Hyper_param_search = GridSearchCV(estimator=model,\n",
    "                       param_grid=param_grid, scoring = 'accuracy',n_jobs=-1, cv=3, verbose=2,)\n",
    "\n",
    "#Fitting the trainning and validation dataset\n",
    "Hyper_param_search.fit(x_train, y_train, validation_data=(x_valid, y_valid))\n",
    "\n",
    "# check the best hyperparameter\n",
    "Hyper_param_search.best_estimator_, Hyper_param_search.best_params_, Hyper_param_search.best_score_ "
   ]
  },
  {
   "cell_type": "code",
   "execution_count": 9,
   "id": "8bb75dba",
   "metadata": {},
   "outputs": [
    {
     "data": {
      "text/plain": [
       "0.21108179419525067"
      ]
     },
     "execution_count": 9,
     "metadata": {},
     "output_type": "execute_result"
    }
   ],
   "source": [
    "# Using test set to evaluate the accuracy\n",
    "best_model = Hyper_param_search.best_estimator_\n",
    "test_accuracy = best_model.score(x_test, y_test)\n",
    "test_accuracy"
   ]
  },
  {
   "cell_type": "markdown",
   "id": "221c15ad",
   "metadata": {},
   "source": [
    "## Five Hidden Layer"
   ]
  },
  {
   "cell_type": "code",
   "execution_count": 10,
   "id": "e96f445d",
   "metadata": {},
   "outputs": [],
   "source": [
    "#Set up the model with five hidden layer\n",
    "def NN5(hidden_layer_size=100,activation = 'tanh',optimizer='adam'):\n",
    "    input_size = 110\n",
    "    output_size = 16\n",
    "    model = tf.keras.Sequential([\n",
    "            tf.keras.layers.Input(shape=(input_size,)),\n",
    "            tf.keras.layers.Dense(hidden_layer_size, activation=activation),\n",
    "            tf.keras.layers.Dense(hidden_layer_size, activation=activation),\n",
    "            tf.keras.layers.Dense(hidden_layer_size, activation=activation),\n",
    "            tf.keras.layers.Dense(hidden_layer_size, activation=activation),\n",
    "            tf.keras.layers.Dense(hidden_layer_size, activation=activation),\n",
    "            tf.keras.layers.Dense(output_size, activation='softmax')\n",
    "        ])\n",
    "    model.compile(optimizer=optimizer, loss='CategoricalCrossentropy', metrics=['accuracy'])\n",
    "    return model \n",
    "\n",
    "model = KerasClassifier(model=NN5,\n",
    "                        hidden_layer_size=100,\n",
    "                        activation = 'tanh',optimizer='adam', verbose=0)"
   ]
  },
  {
   "cell_type": "code",
   "execution_count": 11,
   "id": "5e7fd1fe",
   "metadata": {
    "scrolled": true
   },
   "outputs": [
    {
     "name": "stdout",
     "output_type": "stream",
     "text": [
      "Fitting 3 folds for each of 756 candidates, totalling 2268 fits\n"
     ]
    },
    {
     "data": {
      "text/plain": [
       "(KerasClassifier(\n",
       " \tmodel=<function NN5 at 0x00000223EA880280>\n",
       " \tbuild_fn=None\n",
       " \twarm_start=False\n",
       " \trandom_state=None\n",
       " \toptimizer=Adadelta\n",
       " \tloss=None\n",
       " \tmetrics=None\n",
       " \tbatch_size=100\n",
       " \tvalidation_batch_size=None\n",
       " \tverbose=0\n",
       " \tcallbacks=None\n",
       " \tvalidation_split=0.0\n",
       " \tshuffle=True\n",
       " \trun_eagerly=False\n",
       " \tepochs=50\n",
       " \thidden_layer_size=50\n",
       " \tactivation=sigmoid\n",
       " \tclass_weight=None\n",
       " ),\n",
       " {'activation': 'sigmoid',\n",
       "  'batch_size': 100,\n",
       "  'epochs': 50,\n",
       "  'hidden_layer_size': 50,\n",
       "  'optimizer': 'Adadelta'},\n",
       " 0.2302325151510586)"
      ]
     },
     "execution_count": 11,
     "metadata": {},
     "output_type": "execute_result"
    }
   ],
   "source": [
    "# Same stituation with previous coding\n",
    "# Seting up the activation methods, optimizser, number of hidden layer size, batch size, and epochs \n",
    "# to find the best combination\n",
    "# Each hyperparameters will be selected one value to search the highest accuracy score. \n",
    "param_grid = {\n",
    "    'hidden_layer_size' : [50,100,200],\n",
    "    'activation' : ['tanh','softmax','relu','sigmoid'],\n",
    "    'optimizer' : ['SGD','RMSprop', 'Adagrad', 'Adadelta', 'Adam', 'Adamax', 'Nadam'],\n",
    "    'batch_size' : [50,100,150],\n",
    "    'epochs' : [10, 20,50]\n",
    "\n",
    "}\n",
    "\n",
    "Hyper_param_search = GridSearchCV(estimator=model,\n",
    "                       param_grid=param_grid, scoring = 'accuracy',n_jobs=-1, cv=3, verbose=2,)\n",
    "\n",
    "#Fitting the trainning and validation dataset\n",
    "Hyper_param_search.fit(x_train, y_train, validation_data=(x_valid, y_valid))\n",
    "\n",
    "# check the best hyperparameter\n",
    "Hyper_param_search.best_estimator_, Hyper_param_search.best_params_, Hyper_param_search.best_score_  "
   ]
  },
  {
   "cell_type": "code",
   "execution_count": 12,
   "id": "ca86db4b",
   "metadata": {},
   "outputs": [
    {
     "data": {
      "text/plain": [
       "0.20316622691292877"
      ]
     },
     "execution_count": 12,
     "metadata": {},
     "output_type": "execute_result"
    }
   ],
   "source": [
    "# Using test set to evaluate the accuracy\n",
    "best_model = Hyper_param_search.best_estimator_\n",
    "test_accuracy = best_model.score(x_test, y_test)\n",
    "test_accuracy"
   ]
  },
  {
   "cell_type": "markdown",
   "id": "c96b6279",
   "metadata": {},
   "source": [
    "### Conclusion "
   ]
  },
  {
   "cell_type": "markdown",
   "id": "f45692b5",
   "metadata": {},
   "source": [
    "In summary, the neural network exhibited its highest performance, achieving an accuracy rate of 22.03% with a single hidden layer and the sigmoid activation function."
   ]
  }
 ],
 "metadata": {
  "kernelspec": {
   "display_name": "Python [conda env:py3-TF2.0]",
   "language": "python",
   "name": "conda-env-py3-TF2.0-py"
  },
  "language_info": {
   "codemirror_mode": {
    "name": "ipython",
    "version": 3
   },
   "file_extension": ".py",
   "mimetype": "text/x-python",
   "name": "python",
   "nbconvert_exporter": "python",
   "pygments_lexer": "ipython3",
   "version": "3.9.16"
  }
 },
 "nbformat": 4,
 "nbformat_minor": 5
}
